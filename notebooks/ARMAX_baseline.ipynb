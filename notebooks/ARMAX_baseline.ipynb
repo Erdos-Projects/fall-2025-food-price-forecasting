{
 "cells": [
  {
   "cell_type": "markdown",
   "id": "2da1ea2c-fa13-42e7-98e1-df05e18f862a",
   "metadata": {},
   "source": [
    "# ARMA baseline model\n"
   ]
  },
  {
   "cell_type": "code",
   "execution_count": 1,
   "id": "bdf035c7-6e66-46a9-803c-0b4034658bf4",
   "metadata": {},
   "outputs": [],
   "source": [
    "import pandas as pd\n",
    "import numpy as np\n",
    "import matplotlib.pyplot as plt\n",
    "from datetime import datetime\n",
    "from statsmodels.graphics.tsaplots import plot_acf, plot_pacf"
   ]
  },
  {
   "cell_type": "code",
   "execution_count": 2,
   "id": "4d284f87-dadd-4463-9beb-b5301617c53b",
   "metadata": {},
   "outputs": [],
   "source": [
    "# load data from drive\n",
    "df = pd.read_csv(\"../src/data/processed/CPI.csv\", index_col='date')\n",
    "df_first_diff = np.log(df).diff()\n",
    "df = df_first_diff.dropna()"
   ]
  },
  {
   "cell_type": "code",
   "execution_count": null,
   "id": "6e474d47-92ff-4bd7-b3a4-837e436394d9",
   "metadata": {},
   "outputs": [],
   "source": []
  },
  {
   "cell_type": "code",
   "execution_count": 3,
   "id": "5fc80aa4-bb7c-4be5-942d-01028f3e09e3",
   "metadata": {},
   "outputs": [],
   "source": [
    "# stationarity test\n",
    "from statsmodels.tsa.stattools import adfuller\n",
    "def adfuller_test(df, col, print_results=False):\n",
    "    # extracting only the passengers count using values function\n",
    "    values = df[col]\n",
    "\n",
    "    # passing the extracted passengers count to adfuller function.\n",
    "    # result of adfuller function is stored in a res variable\n",
    "    res = adfuller(values)\n",
    "    if print_results:\n",
    "        print(\"Augmented Dickey Fuller for \" + col)\n",
    "\n",
    "        # Printing the statistical result of the adfuller test\n",
    "        print('Augmneted Dickey_fuller Statistic: %f' % res[0])\n",
    "        print('p-value: %f' % res[1])\n",
    "\n",
    "        # printing the critical values at different alpha levels.\n",
    "        print('critical values at different levels:')\n",
    "        for k, v in res[4].items():\n",
    "            print('\\t%s: %.3f' % (k, v))\n",
    "    else:\n",
    "        return res"
   ]
  },
  {
   "cell_type": "code",
   "execution_count": 4,
   "id": "516b2aa0-0d52-470f-b5dc-b04cbca90957",
   "metadata": {},
   "outputs": [
    {
     "data": {
      "text/html": [
       "<div>\n",
       "<style scoped>\n",
       "    .dataframe tbody tr th:only-of-type {\n",
       "        vertical-align: middle;\n",
       "    }\n",
       "\n",
       "    .dataframe tbody tr th {\n",
       "        vertical-align: top;\n",
       "    }\n",
       "\n",
       "    .dataframe thead th {\n",
       "        text-align: right;\n",
       "    }\n",
       "</style>\n",
       "<table border=\"1\" class=\"dataframe\">\n",
       "  <thead>\n",
       "    <tr style=\"text-align: right;\">\n",
       "      <th></th>\n",
       "      <th>series</th>\n",
       "      <th>p-value</th>\n",
       "    </tr>\n",
       "  </thead>\n",
       "  <tbody>\n",
       "    <tr>\n",
       "      <th>0</th>\n",
       "      <td>CUSR0000SEFA01</td>\n",
       "      <td>4.825228e-07</td>\n",
       "    </tr>\n",
       "    <tr>\n",
       "      <th>1</th>\n",
       "      <td>CUSR0000SEFB04</td>\n",
       "      <td>4.949368e-05</td>\n",
       "    </tr>\n",
       "    <tr>\n",
       "      <th>2</th>\n",
       "      <td>CUSR0000SEFC01</td>\n",
       "      <td>3.200328e-30</td>\n",
       "    </tr>\n",
       "    <tr>\n",
       "      <th>3</th>\n",
       "      <td>CUSR0000SEFD02</td>\n",
       "      <td>1.013153e-08</td>\n",
       "    </tr>\n",
       "    <tr>\n",
       "      <th>4</th>\n",
       "      <td>CUSR0000SEFD03</td>\n",
       "      <td>0.000000e+00</td>\n",
       "    </tr>\n",
       "    <tr>\n",
       "      <th>5</th>\n",
       "      <td>CUSR0000SEFJ02</td>\n",
       "      <td>6.035928e-08</td>\n",
       "    </tr>\n",
       "    <tr>\n",
       "      <th>6</th>\n",
       "      <td>CUSR0000SEFK01</td>\n",
       "      <td>2.052638e-11</td>\n",
       "    </tr>\n",
       "    <tr>\n",
       "      <th>7</th>\n",
       "      <td>CUSR0000SEFK02</td>\n",
       "      <td>4.454782e-07</td>\n",
       "    </tr>\n",
       "    <tr>\n",
       "      <th>8</th>\n",
       "      <td>CUSR0000SEFL01</td>\n",
       "      <td>9.991575e-16</td>\n",
       "    </tr>\n",
       "    <tr>\n",
       "      <th>9</th>\n",
       "      <td>CUSR0000SEFL03</td>\n",
       "      <td>5.010693e-22</td>\n",
       "    </tr>\n",
       "    <tr>\n",
       "      <th>10</th>\n",
       "      <td>CUSR0000SEFL04</td>\n",
       "      <td>1.014096e-15</td>\n",
       "    </tr>\n",
       "    <tr>\n",
       "      <th>11</th>\n",
       "      <td>CUSR0000SEFN01</td>\n",
       "      <td>6.448403e-03</td>\n",
       "    </tr>\n",
       "    <tr>\n",
       "      <th>12</th>\n",
       "      <td>CUSR0000SEFT01</td>\n",
       "      <td>2.307349e-06</td>\n",
       "    </tr>\n",
       "    <tr>\n",
       "      <th>13</th>\n",
       "      <td>CUSR0000SEFT03</td>\n",
       "      <td>3.836285e-29</td>\n",
       "    </tr>\n",
       "  </tbody>\n",
       "</table>\n",
       "</div>"
      ],
      "text/plain": [
       "            series       p-value\n",
       "0   CUSR0000SEFA01  4.825228e-07\n",
       "1   CUSR0000SEFB04  4.949368e-05\n",
       "2   CUSR0000SEFC01  3.200328e-30\n",
       "3   CUSR0000SEFD02  1.013153e-08\n",
       "4   CUSR0000SEFD03  0.000000e+00\n",
       "5   CUSR0000SEFJ02  6.035928e-08\n",
       "6   CUSR0000SEFK01  2.052638e-11\n",
       "7   CUSR0000SEFK02  4.454782e-07\n",
       "8   CUSR0000SEFL01  9.991575e-16\n",
       "9   CUSR0000SEFL03  5.010693e-22\n",
       "10  CUSR0000SEFL04  1.014096e-15\n",
       "11  CUSR0000SEFN01  6.448403e-03\n",
       "12  CUSR0000SEFT01  2.307349e-06\n",
       "13  CUSR0000SEFT03  3.836285e-29"
      ]
     },
     "execution_count": 4,
     "metadata": {},
     "output_type": "execute_result"
    }
   ],
   "source": [
    "results = []\n",
    "df_first_diff.dropna(inplace=True)\n",
    "for name in df_first_diff.columns:\n",
    "    res = adfuller_test(df_first_diff, name, print_results=False)\n",
    "    results.append([name, res[1]])\n",
    "\n",
    "results = pd.DataFrame(results, columns=['series', 'p-value'])\n",
    "results"
   ]
  },
  {
   "cell_type": "code",
   "execution_count": 5,
   "id": "f247e4bd-4179-444c-ac8c-abb952dd021b",
   "metadata": {},
   "outputs": [],
   "source": [
    "# arima model\n",
    "import statsmodels.api as sm\n",
    "train = df_first_diff.iloc[:-24]\n",
    "test = df_first_diff.iloc[-24:]"
   ]
  },
  {
   "cell_type": "code",
   "execution_count": 8,
   "id": "4725d4ef-85e2-4a2d-aa16-9d99a4be08d7",
   "metadata": {},
   "outputs": [],
   "source": [
    "%%capture\n",
    "import warnings\n",
    "warnings.filterwarnings(\"ignore\")  ## this suppresses warnings for this cell\n",
    "\n",
    "# hyperparameter tuning to p and q values chosen via AIC\n",
    "results = pd.DataFrame(columns=['p', 'q', 'AIC'])\n",
    "\n",
    "for p in range(1, 4):\n",
    "    for q in range(1, 4):\n",
    "        model = sm.tsa.VARMAX(train, order=(p, q))\n",
    "        result = model.fit(method='bfgs', maxiter=1000, disp=False)\n",
    "        df = pd.DataFrame([{'p': p, 'q': q, 'AIC': result.aic}])\n",
    "        results = pd.concat([results, df], ignore_index=True)\n",
    "        \n",
    "res_df = pd.DataFrame(results, columns=['p', 'q', 'AIC'])\n",
    "res_df.sort_values(by=['AIC']).head()"
   ]
  },
  {
   "cell_type": "code",
   "execution_count": 9,
   "id": "bf466cf1-e214-441a-a467-a689af227bbd",
   "metadata": {},
   "outputs": [
    {
     "name": "stdout",
     "output_type": "stream",
     "text": [
      "The best parameters werep                 1\n",
      "q                 1\n",
      "AIC   -34936.814375\n",
      "Name: 0, dtype: object\n"
     ]
    }
   ],
   "source": [
    "print(\"The best parameters were\" +  str(res_df.iloc[0]))\n",
    "p = res_df.iloc[0].p\n",
    "q = res_df.iloc[0].q\n",
    "#model = sm.tsa.VARMAX(train, order=(1, 1))\n",
    "#fit_res = model.fit(method='bfgs', disp=False)\n",
    "#fit_res.summary()"
   ]
  },
  {
   "cell_type": "code",
   "execution_count": 10,
   "id": "b47f5383-611c-4b15-87dc-132e38c44a35",
   "metadata": {},
   "outputs": [
    {
     "ename": "NameError",
     "evalue": "name 'fit_res' is not defined",
     "output_type": "error",
     "traceback": [
      "\u001b[31m---------------------------------------------------------------------------\u001b[39m",
      "\u001b[31mNameError\u001b[39m                                 Traceback (most recent call last)",
      "\u001b[36mCell\u001b[39m\u001b[36m \u001b[39m\u001b[32mIn[10]\u001b[39m\u001b[32m, line 2\u001b[39m\n\u001b[32m      1\u001b[39m n_forecast = \u001b[38;5;28mlen\u001b[39m(test)\n\u001b[32m----> \u001b[39m\u001b[32m2\u001b[39m forecast_df = \u001b[43mfit_res\u001b[49m.forecast(steps=n_forecast)\n\u001b[32m      3\u001b[39m forecast_df.index = test.index\n\u001b[32m      5\u001b[39m \u001b[38;5;66;03m#pred_res = fit_res.get_forecast(steps=n_forecast)\u001b[39;00m\n\u001b[32m      6\u001b[39m \u001b[38;5;66;03m#forecast_df = pred_res.predicted_mean\u001b[39;00m\n\u001b[32m      7\u001b[39m \u001b[38;5;66;03m#conf_int = pred_res.conf_int()\u001b[39;00m\n",
      "\u001b[31mNameError\u001b[39m: name 'fit_res' is not defined"
     ]
    }
   ],
   "source": [
    "n_forecast = len(test)\n",
    "forecast_df = fit_res.forecast(steps=n_forecast)\n",
    "forecast_df.index = test.index\n",
    "\n",
    "#pred_res = fit_res.get_forecast(steps=n_forecast)\n",
    "#forecast_df = pred_res.predicted_mean\n",
    "#conf_int = pred_res.conf_int()"
   ]
  },
  {
   "cell_type": "code",
   "execution_count": null,
   "id": "b6670b7f-c8e6-450e-8a41-b8bc3458b634",
   "metadata": {},
   "outputs": [],
   "source": [
    "from sklearn.metrics import mean_squared_error, mean_absolute_percentage_error\n",
    "import numpy as np\n",
    "\n",
    "mse = mean_squared_error(test, forecast_df)\n",
    "rmse = np.sqrt(mse)\n",
    "mape = mean_absolute_percentage_error(test, forecast_df)\n",
    "print(\"rmse:\", rmse)\n",
    "print(\"mape:\", mape)"
   ]
  },
  {
   "cell_type": "code",
   "execution_count": null,
   "id": "fb466b9c-5293-4a4c-b806-669d4b85cf59",
   "metadata": {},
   "outputs": [],
   "source": [
    "import matplotlib.pyplot as plt\n",
    "\n",
    "fig, ax = plt.subplots(figsize=(10,4))\n",
    "test.plot(ax=ax, label=\"Actual\")\n",
    "forecast_df.plot(ax=ax, label=\"Forecast\", linestyle=\"--\")\n",
    "ax.legend()\n",
    "plt.show()"
   ]
  },
  {
   "cell_type": "code",
   "execution_count": null,
   "id": "fb20de73-5452-4002-8609-0960da8be8e7",
   "metadata": {},
   "outputs": [],
   "source": [
    "def plot_predictions(df_predict, df_true, title='code'):\n",
    "    ncols = 3\n",
    "    nrows = len(df_predict.columns)//3 + 1\n",
    "    fig, axes = plt.subplots(nrows=nrows, ncols=ncols, figsize=(10,10))\n",
    "    axes = axes.flatten() # easier indexing\n",
    "    i = 0\n",
    "    for name in df_predict.columns:\n",
    "        data_predict = df_predict[name].dropna()\n",
    "        data_true = df_true[name].dropna()\n",
    "        if title == 'description':\n",
    "            fig_name = var_dict[name]\n",
    "        elif title == 'code':\n",
    "            fig_name = name\n",
    "        data_predict.plot(figsize=(10,10), ax = axes[i], title=fig_name)\n",
    "        data_true.plot(figsize=(10,10), ax = axes[i])\n",
    "        plt.xlabel('Date')\n",
    "        plt.ylabel('CPI')\n",
    "        i+=1\n",
    "    plt.tight_layout(h_pad = 3)\n",
    "    plt.show()"
   ]
  },
  {
   "cell_type": "code",
   "execution_count": null,
   "id": "ca2d7e41-0686-41ab-b421-2b4b314a2ea5",
   "metadata": {},
   "outputs": [],
   "source": [
    "plot_predictions(forecast_df, test)"
   ]
  },
  {
   "cell_type": "code",
   "execution_count": null,
   "id": "265ca588-7517-461b-8eae-65de458f02bf",
   "metadata": {},
   "outputs": [],
   "source": []
  },
  {
   "cell_type": "code",
   "execution_count": null,
   "id": "821f5e6d-e885-4629-9b0f-0cfb46652930",
   "metadata": {},
   "outputs": [],
   "source": []
  },
  {
   "cell_type": "code",
   "execution_count": null,
   "id": "497224a2-5f6c-480b-b649-f321c0edc608",
   "metadata": {},
   "outputs": [],
   "source": []
  },
  {
   "cell_type": "code",
   "execution_count": null,
   "id": "24e362b6-777c-4765-a6c0-64797e4fb92a",
   "metadata": {},
   "outputs": [],
   "source": []
  },
  {
   "cell_type": "code",
   "execution_count": null,
   "id": "1789b012-1a10-4a22-99bf-f82924bb7925",
   "metadata": {},
   "outputs": [],
   "source": []
  }
 ],
 "metadata": {
  "kernelspec": {
   "display_name": "Python 3 (ipykernel)",
   "language": "python",
   "name": "python3"
  },
  "language_info": {
   "codemirror_mode": {
    "name": "ipython",
    "version": 3
   },
   "file_extension": ".py",
   "mimetype": "text/x-python",
   "name": "python",
   "nbconvert_exporter": "python",
   "pygments_lexer": "ipython3",
   "version": "3.12.11"
  }
 },
 "nbformat": 4,
 "nbformat_minor": 5
}
