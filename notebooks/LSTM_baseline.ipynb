{
 "cells": [
  {
   "cell_type": "markdown",
   "id": "f9fc60fe-2e4b-447a-9835-b7a51c3fc550",
   "metadata": {},
   "source": [
    "# LSTM baseline model\n",
    "It appears that for the 500 datapoints and feature dimension of 14, it is unreasonable to train an LSTM model in this space. With multiple weight matrices at $14 \\times 14$ there too many paramters for the sample size. Alternative include: dimension reduction, train LSTMs on individual components (no interactions), etc"
   ]
  },
  {
   "cell_type": "code",
   "execution_count": 3,
   "id": "37226e0d-6dc7-49cc-8db0-16f9b4a0aa38",
   "metadata": {},
   "outputs": [],
   "source": [
    "import pandas as pd\n",
    "import numpy as np\n",
    "import matplotlib.pyplot as plt\n",
    "from datetime import datetime\n",
    "from statsmodels.graphics.tsaplots import plot_acf, plot_pacf\n",
    "#from tensorflow.keras.models import Sequential\n",
    "#from tensorflow.keras.layers import LSTM, Dense\n",
    "#from sklearn.preprocessing import MinMaxScaler"
   ]
  },
  {
   "cell_type": "code",
   "execution_count": null,
   "id": "509dc399-433b-4984-8c7f-4c1dbe01d30a",
   "metadata": {},
   "outputs": [],
   "source": []
  },
  {
   "cell_type": "code",
   "execution_count": 5,
   "id": "3a77dd3d-e4e4-4977-b36b-c8502e4cf887",
   "metadata": {},
   "outputs": [
    {
     "data": {
      "text/plain": [
       "14"
      ]
     },
     "execution_count": 5,
     "metadata": {},
     "output_type": "execute_result"
    }
   ],
   "source": [
    "# load data from drive\n",
    "df = pd.read_csv(\"../src/data/processed/CPI.csv\", index_col='date')\n",
    "df_first_diff = np.log(df).diff()\n",
    "df = df_first_diff.dropna()\n",
    "feat_dim = len(df.columns)"
   ]
  },
  {
   "cell_type": "code",
   "execution_count": null,
   "id": "e0c5fe1a-0c8e-4c57-b72c-97b0a2436160",
   "metadata": {},
   "outputs": [],
   "source": [
    "# Prepare the data for LSTM\n",
    "def create_dataset(series, time_step=1):\n",
    "    X, y = [], []\n",
    "    for i in range(len(series) - time_step - 1):\n",
    "        X.append(series[i:(i + time_step), 0])\n",
    "        y.append(series[i + time_step, 0])\n",
    "    return np.array(X), np.array(y)"
   ]
  },
  {
   "cell_type": "code",
   "execution_count": null,
   "id": "74d0f5dd-e418-4bba-bd5a-774029f62b9b",
   "metadata": {},
   "outputs": [],
   "source": [
    "time_step = 1\n",
    "X, y = create_dataset(scaled_series, time_step)\n",
    "X = X.reshape(X.shape[0], X.shape[1], 1)"
   ]
  },
  {
   "cell_type": "code",
   "execution_count": null,
   "id": "9fe859d1-c577-4547-9f31-36b38a27fc2c",
   "metadata": {},
   "outputs": [],
   "source": [
    "# Build the LSTM model\n",
    "model = Sequential()\n",
    "model.add(LSTM(units=50, return_sequences=True, input_shape=(time_step, feat_dim)))\n",
    "model.add(LSTM(units=50))\n",
    "model.add(Dense(1))\n",
    "model.compile(optimizer='adam', loss='mean_squared_error')"
   ]
  },
  {
   "cell_type": "code",
   "execution_count": null,
   "id": "cb70e1d1-07c9-4630-87ad-7043d2661c43",
   "metadata": {},
   "outputs": [],
   "source": [
    "# Train the model\n",
    "model.fit(X, y, epochs=20, batch_size=32)\n",
    "\n",
    "# Forecast future values\n",
    "forecast = model.predict(X[-24:])\n",
    "\n",
    "# Inverse transform to original scale\n",
    "forecast = scaler.inverse_transform(forecast)\n",
    "\n",
    "print(\"Forecasted values:\", forecast)"
   ]
  },
  {
   "cell_type": "code",
   "execution_count": null,
   "id": "3cb12f52-1d68-4a2e-8afd-680cee9a87e0",
   "metadata": {},
   "outputs": [],
   "source": []
  },
  {
   "cell_type": "code",
   "execution_count": null,
   "id": "2ae60634-0a17-49ab-a2f4-b4272f2591d6",
   "metadata": {},
   "outputs": [],
   "source": []
  },
  {
   "cell_type": "code",
   "execution_count": null,
   "id": "0958cfc0-232c-4422-b2e0-12d70d30122b",
   "metadata": {},
   "outputs": [],
   "source": []
  },
  {
   "cell_type": "code",
   "execution_count": null,
   "id": "a976b374-756f-49f9-a044-56d894f52b1a",
   "metadata": {},
   "outputs": [],
   "source": []
  }
 ],
 "metadata": {
  "kernelspec": {
   "display_name": "Python 3 (ipykernel)",
   "language": "python",
   "name": "python3"
  },
  "language_info": {
   "codemirror_mode": {
    "name": "ipython",
    "version": 3
   },
   "file_extension": ".py",
   "mimetype": "text/x-python",
   "name": "python",
   "nbconvert_exporter": "python",
   "pygments_lexer": "ipython3",
   "version": "3.12.11"
  }
 },
 "nbformat": 4,
 "nbformat_minor": 5
}
