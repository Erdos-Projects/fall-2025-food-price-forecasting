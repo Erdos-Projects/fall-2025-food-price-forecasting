{
 "cells": [
  {
   "cell_type": "markdown",
   "id": "1c1cb26d-d962-4e51-a93c-1536c9376c09",
   "metadata": {},
   "source": [
    "# Metric Evaluation"
   ]
  },
  {
   "cell_type": "code",
   "execution_count": null,
   "id": "c5c4e94d-e1b7-4910-8937-c85022d73bb1",
   "metadata": {},
   "outputs": [],
   "source": []
  }
 ],
 "metadata": {
  "kernelspec": {
   "display_name": "Python 3 (ipykernel)",
   "language": "python",
   "name": "python3"
  },
  "language_info": {
   "codemirror_mode": {
    "name": "ipython",
    "version": 3
   },
   "file_extension": ".py",
   "mimetype": "text/x-python",
   "name": "python",
   "nbconvert_exporter": "python",
   "pygments_lexer": "ipython3",
   "version": "3.12.11"
  }
 },
 "nbformat": 4,
 "nbformat_minor": 5
}
